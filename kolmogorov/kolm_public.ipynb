{
 "cells": [
  {
   "cell_type": "code",
   "execution_count": 9,
   "metadata": {},
   "outputs": [
    {
     "name": "stderr",
     "output_type": "stream",
     "text": [
      "/home/blist/anaconda3/envs/piso/lib/python3.6/_collections_abc.py:743: MatplotlibDeprecationWarning:\n",
      "\n",
      "The global colormaps dictionary is no longer considered public API.\n",
      "\n",
      "/home/blist/anaconda3/envs/piso/lib/python3.6/_collections_abc.py:744: MatplotlibDeprecationWarning:\n",
      "\n",
      "The global colormaps dictionary is no longer considered public API.\n",
      "\n"
     ]
    }
   ],
   "source": [
    "import numpy as np\n",
    "from phi.flow import *\n"
   ]
  },
  {
   "cell_type": "code",
   "execution_count": 10,
   "metadata": {},
   "outputs": [],
   "source": [
    "def load_reference_data(path, index_ranges, domain):\n",
    "    reference_data = []\n",
    "    for r in range(len(index_ranges)):\n",
    "        ref_range = []\n",
    "        for i in index_ranges[r]:\n",
    "            ref = [np.load(path + '/velocity_' + str(i).zfill(6) + '.npz')['arr_0'],\n",
    "                   np.load(path + '/pressure_' + str(i).zfill(6) + '.npz')['arr_0']]\n",
    "            ref = np.concatenate([StaggeredGrid(ref[0], domain.box).at(domain.staggered_grid(0)).staggered_tensor()[:, :-1, :-1, :],\n",
    "                                  CenteredGrid(ref[1], domain.box).at(domain.centered_grid(0)).data], axis=-1)\n",
    "            ref_range.append(ref)\n",
    "        reference_data.append(np.stack(ref_range, 0))\n",
    "    return np.concatenate(reference_data,1)"
   ]
  },
  {
   "cell_type": "code",
   "execution_count": 11,
   "metadata": {},
   "outputs": [],
   "source": [
    "base_path = '/home/blist/datadrive/tests/'\n",
    "initial_frames = [[base_path + '/simulations/kolmogorovFlow_128-128_Re1000_wave6_dt0.005_000001/', [12700, 15800, 17000, 23800, 31000, 40200]],\n",
    "                  [base_path + '/simulations/kolmogorovFlow_128-128_Re600_wave6_dt0.005_000000/', np.array([180, 800, 1200, 2000, 2800, 3800])*4+10000]]"
   ]
  },
  {
   "cell_type": "code",
   "execution_count": 17,
   "metadata": {},
   "outputs": [],
   "source": [
    "frame_count = 300\n",
    "evaluation_interval = 1\n",
    "frame_increment = 4\n",
    "domain = Domain([32,32], box=box[0:2 * np.pi, 0:2 * np.pi], boundaries=((PERIODIC, PERIODIC), (PERIODIC, PERIODIC)))\n",
    "ref_traj = [load_reference_data(initial_frames[i][0],\n",
    "                                [range(s, s + frame_count * frame_increment, frame_increment * evaluation_interval) for s in initial_frame[1]],\n",
    "                                domain) for i in range(len(initial_frames))]"
   ]
  },
  {
   "cell_type": "code",
   "execution_count": 22,
   "metadata": {},
   "outputs": [],
   "source": [
    "np.save('reference_data_1000.npy', ref_traj[0])\n",
    "np.save('reference_data_600.npy', ref_traj[1])"
   ]
  },
  {
   "cell_type": "code",
   "execution_count": 18,
   "metadata": {},
   "outputs": [],
   "source": [
    "np.save('testfile.npy',{'a':np.ones((3,3)), 'b':np.zeros((3,3))})"
   ]
  },
  {
   "cell_type": "code",
   "execution_count": 20,
   "metadata": {},
   "outputs": [],
   "source": [
    "l = np.load('testfile.npy', allow_pickle=True)"
   ]
  }
 ],
 "metadata": {
  "kernelspec": {
   "display_name": "piso",
   "language": "python",
   "name": "python3"
  },
  "language_info": {
   "codemirror_mode": {
    "name": "ipython",
    "version": 3
   },
   "file_extension": ".py",
   "mimetype": "text/x-python",
   "name": "python",
   "nbconvert_exporter": "python",
   "pygments_lexer": "ipython3",
   "version": "3.6.13"
  }
 },
 "nbformat": 4,
 "nbformat_minor": 2
}
